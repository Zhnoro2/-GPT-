{
 "cells": [
  {
   "cell_type": "code",
   "execution_count": 15,
   "id": "af252fcb-d72e-45e7-860f-7b7c4deab248",
   "metadata": {},
   "outputs": [],
   "source": [
    "import pandas as pd\n",
    "import re\n",
    "import os\n",
    "import openai\n",
    "from openai import OpenAI\n",
    "from tqdm import tqdm"
   ]
  },
  {
   "cell_type": "code",
   "execution_count": 17,
   "id": "f77ec9cc-b438-4c08-a6cb-e4ef2a03729f",
   "metadata": {},
   "outputs": [],
   "source": [
    "#选择文件所在位置，读取原始数据\n",
    "df=pd.read_excel(r\"C:\\Users\\Desktop\\Data.xlsx\")"
   ]
  },
  {
   "cell_type": "code",
   "execution_count": 18,
   "id": "5d8b238f-3b05-49db-87d6-e8d597642bbe",
   "metadata": {},
   "outputs": [
    {
     "name": "stdout",
     "output_type": "stream",
     "text": [
      "            审查点                                               审查规则\n",
      "0   【承包商工作范围审查】  识别承包商的工作范围，未识别到提示缺失，识别到提示人工确认（①是否存在开口；②承包商是否负责...\n",
      "1   【担保与连带责任审查】  1、审查是否存在承包商提供母公司担保要求，存在时提示风险。\\n2、审查是否存在相关主体与承包...\n",
      "2  【签约主体法律关系审查】                        在“当事人信息”位置，提示人工确认签约主体的法律关系。\n",
      "3      【合同架构审查】                  在合同名称位置，提示人工根据提示文本中的考虑因素确认合同架构安排。\n",
      "4       【准据法审查】  识别合同约定的准据法,未识别到提示缺失,识别到提示人工确认(一般要求英格兰法、威尔士法、新加...\n"
     ]
    }
   ],
   "source": [
    "#打印前几行数据以确认读取正确\n",
    "print(df.head())"
   ]
  },
  {
   "cell_type": "code",
   "execution_count": 19,
   "id": "d16f568b-8caf-4a98-9cc8-77e13b73ae6b",
   "metadata": {},
   "outputs": [],
   "source": [
    "#定义函数，对模型生成的文本提取经验分类、问题、答案\n",
    "def extract_qa_with_categories(text):\n",
    "    # 正则表达式匹配经验分类和后续的问题与答案\n",
    "    category_pattern = r\"(小于5年的从业者|5-10年的从业者|大于10年的从业者)\"\n",
    "    # 通过正则表达式对问答进行分块，并且处理可能的空白字符\n",
    "    qa_pattern = r\"Q(\\d*)\\s*:\\s*\\**\\s*(.+?)\\s*\\**\\s*(?:\\n|\\s)+A\\1\\s*:\\s*(.+?)(?=(?:\\n\\s*|\\s*)Q\\d*|\\Z)\"\n",
    "    \n",
    "    categories = re.findall(category_pattern, text)\n",
    "    split_text = re.split(category_pattern, text)\n",
    "    \n",
    "    questions = []\n",
    "    answers = []\n",
    "    categories_result = []\n",
    "    \n",
    "    # 对每个分类进行处理\n",
    "    for i in range(1, len(split_text), 2):\n",
    "        # 找到每个分类后的文本块\n",
    "        category = split_text[i]\n",
    "        category_text = split_text[i+1]\n",
    "        \n",
    "        # 在当前分类文本块中匹配问题和答案\n",
    "        qas = re.findall(qa_pattern, category_text, re.DOTALL)\n",
    "        \n",
    "        for q, question, answer in qas:\n",
    "            questions.append(question.strip())\n",
    "            answers.append(answer.strip())\n",
    "            categories_result.append(category)\n",
    "    \n",
    "    # 创建 DataFrame 进行存储\n",
    "    df = pd.DataFrame({\n",
    "        'Category': categories_result,\n",
    "        'Question': questions,\n",
    "        'Answer': answers\n",
    "    })\n",
    "    \n",
    "    return df"
   ]
  },
  {
   "cell_type": "code",
   "execution_count": 20,
   "id": "f73d7494-39d8-49ae-bcd9-d505c3b1b53b",
   "metadata": {},
   "outputs": [],
   "source": [
    "#初始化一个列表来存储问答对和模块类别\n",
    "qa_pairs = []"
   ]
  },
  {
   "cell_type": "code",
   "execution_count": 21,
   "id": "014afc43-7290-4626-a570-2e90c03819c3",
   "metadata": {},
   "outputs": [],
   "source": [
    "#获取已保存在环境变量中的API密钥\n",
    "client = OpenAI(api_key=os.environ.get(\"OPENAI_API_KEY\"),)"
   ]
  },
  {
   "cell_type": "code",
   "execution_count": 22,
   "id": "4dec5aa6-c795-4191-957a-e4bff249fe94",
   "metadata": {},
   "outputs": [],
   "source": [
    "#定义工作角色和背景\n",
    "system_message = {\"role\": \"system\", \"content\": \"你是一名具有丰富国际工程合同管理经验、AI相关经验的LLM模型训练师，我需要大量的问答数据对模型进行训练，因此需要你帮助生成。请站在承包商一方从业人员的角度，以符合逻辑的方式进行提问和回答，你可以生成多条，从而覆盖这个知识点，并展现出不同的形式。要求领域为国际工程商务合同管理，从“小于5年的从业者”，“5-10年的从业者”，“大于10年的从业者”，根据这些用户可能出现的疑问生成不同难度的问答，问答前先展示是三类从业者中哪一类，然后给出问题：Q计数:问题内容，如Q1....Q2；答案：A计数:答案内容,\"}"
   ]
  },
  {
   "cell_type": "code",
   "execution_count": 23,
   "id": "6c31d599-0971-44a8-8410-e9ea9d9a3d13",
   "metadata": {},
   "outputs": [
    {
     "name": "stderr",
     "output_type": "stream",
     "text": [
      "Generating QA Pairs: 100%|█████████████████████████████████████████████████████████████| 89/89 [53:03<00:00, 35.76s/it]\n"
     ]
    }
   ],
   "source": [
    "# 根据原始数据表的每一行的审查规则，生成文本。提取问答，同时加上审查点和审查规则，其中tqdm提供了进度条功能\n",
    "for index, row in tqdm(df.iterrows(), total=df.shape[0], desc=\"Generating QA Pairs\"):\n",
    "    user_message = {\n",
    "        \"role\": \"user\", \n",
    "        \"content\": f\"下面是相关知识点名称: {row['审查规则']}\"\n",
    "    }\n",
    "    \n",
    "    response = client.chat.completions.create(\n",
    "        model=\"gpt-4-turbo\",\n",
    "        temperature=0.8,\n",
    "        messages=[system_message, user_message]\n",
    "    )\n",
    "    \n",
    "    generated_text = response.choices[0].message.content\n",
    "\n",
    "    # 提取生成的问答对，并包含审查点名称\n",
    "    extracted_qa = extract_qa_with_categories(generated_text)\n",
    "    extracted_qa['审查点'] = row['审查点']  # 为每个问答对添加审查点名称\n",
    "    extracted_qa['审查规则'] = row['审查规则']  # 为每个问答对添加审查规则\n",
    "\n",
    "    # 将提取的数据加入到总列表中\n",
    "    qa_pairs.append(extracted_qa)\n",
    "\n",
    "# 将所有问答对合并到一个 DataFrame 中\n",
    "qa_df = pd.concat(qa_pairs, ignore_index=True)\n"
   ]
  },
  {
   "cell_type": "code",
   "execution_count": 24,
   "id": "86f087c3-4bc0-41d0-bf5b-76d71d92d175",
   "metadata": {},
   "outputs": [],
   "source": [
    "#user_message"
   ]
  },
  {
   "cell_type": "code",
   "execution_count": 25,
   "id": "e86fea10-ded5-4cc0-b2ea-35f16c20a274",
   "metadata": {},
   "outputs": [],
   "source": [
    "#generated_text"
   ]
  },
  {
   "cell_type": "code",
   "execution_count": 26,
   "id": "bb9205a5-2278-4c83-8526-7337203ff96b",
   "metadata": {},
   "outputs": [],
   "source": [
    "#pf = extract_qa_with_categories(generated_text)\n",
    "#print(pf)"
   ]
  },
  {
   "cell_type": "code",
   "execution_count": 28,
   "id": "79f09f02-e1e9-42d6-8c5c-97d70f6f6868",
   "metadata": {},
   "outputs": [
    {
     "name": "stdout",
     "output_type": "stream",
     "text": [
      "数据已成功写入到 Excel 文件中！\n"
     ]
    }
   ],
   "source": [
    "file_path = r'C:\\Users\\30452\\Desktop\\QA_Data.xlsx'  \n",
    "# 检查文件是否存在\n",
    "if os.path.exists(file_path):\n",
    "    # 文件已存在，询问用户是否删除\n",
    "    response = input(f\"文件 '{file_path}' 已存在。是否要删除它并创建一个新文件？(y/n): \")\n",
    "    if response.lower() == 'y':\n",
    "        os.remove(file_path)  # 删除文件\n",
    "        print(\"旧文件已删除。\")\n",
    "        qa_df.to_excel(file_path, index=False, sheet_name='QA Data')  # 写入新文件\n",
    "        print(\"数据已成功写入到新的 Excel 文件中！\")\n",
    "    else:\n",
    "        print(\"操作已取消，没有写入数据。\")\n",
    "else:\n",
    "    # 文件不存在，直接写入\n",
    "    qa_df.to_excel(file_path, index=False, sheet_name='QA Data')\n",
    "    print(\"数据已成功写入到 Excel 文件中！\")"
   ]
  },
  {
   "cell_type": "code",
   "execution_count": null,
   "id": "a804ca06-3a42-4187-b016-93fc3d753f07",
   "metadata": {},
   "outputs": [],
   "source": []
  }
 ],
 "metadata": {
  "kernelspec": {
   "display_name": "Python 3 (ipykernel)",
   "language": "python",
   "name": "python3"
  },
  "language_info": {
   "codemirror_mode": {
    "name": "ipython",
    "version": 3
   },
   "file_extension": ".py",
   "mimetype": "text/x-python",
   "name": "python",
   "nbconvert_exporter": "python",
   "pygments_lexer": "ipython3",
   "version": "3.12.4"
  }
 },
 "nbformat": 4,
 "nbformat_minor": 5
}
